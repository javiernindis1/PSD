{
 "cells": [
  {
   "cell_type": "markdown",
   "id": "12dc330c",
   "metadata": {},
   "source": [
    "# Deteksi Outlier ABOD "
   ]
  },
  {
   "cell_type": "markdown",
   "id": "390f0a50",
   "metadata": {},
   "source": [
    "### Import library yang dibutuhkan "
   ]
  },
  {
   "cell_type": "code",
   "execution_count": 5,
   "id": "6151905d",
   "metadata": {},
   "outputs": [],
   "source": [
    "import os\n",
    "import pandas as pd\n",
    "from dotenv import load_dotenv\n",
    "from sqlalchemy import create_engine"
   ]
  },
  {
   "cell_type": "markdown",
   "id": "afc452bd",
   "metadata": {},
   "source": [
    "### Load dataset"
   ]
  },
  {
   "cell_type": "code",
   "execution_count": 7,
   "id": "01f3d39d",
   "metadata": {},
   "outputs": [],
   "source": [
    "load_dotenv()\n",
    "\n",
    "# Ambil variabel dari .env\n",
    "user_postgres = os.getenv(\"USER_POSTGRES\")\n",
    "password_postgres = os.getenv(\"PASS_POSTGRES\")\n",
    "host_postgres = os.getenv(\"HOST_POSTGRES\")\n",
    "port_postgres = os.getenv(\"PORT_POSTGRES\")\n",
    "db_postgres = os.getenv(\"DB_POSTGRES\")\n",
    "\n",
    "user_mysql = os.getenv(\"USER_MYSQL\")\n",
    "password_mysql = os.getenv(\"PASS_MYSQL\")\n",
    "host_mysql = os.getenv(\"HOST_MYSQL\")\n",
    "port_mysql = os.getenv(\"PORT_MYSQL\")\n",
    "db_mysql = os.getenv(\"DB_MYSQL\")\n",
    "\n",
    "\n",
    "postgres_conn = f\"postgresql+psycopg2://{user_postgres}:{password_postgres}@{host_postgres}:{port_postgres}/{db_postgres}\"\n",
    "\n",
    "mysql_conn = f\"mysql+pymysql://{user_mysql}:{password_mysql}@{host_mysql}:{port_mysql}/{db_mysql}\"\n",
    "\n",
    "postgres_engine = create_engine(postgres_conn)\n",
    "postgres_engine = create_engine(mysql_conn)"
   ]
  },
  {
   "cell_type": "markdown",
   "id": "363d9ba3",
   "metadata": {},
   "source": [
    "### Membuat koneksi (engine) dan mengambil dari database"
   ]
  },
  {
   "cell_type": "code",
   "execution_count": 19,
   "id": "dca4ddb2",
   "metadata": {},
   "outputs": [],
   "source": [
    "# Engine untuk PostgreSQL\n",
    "postgres_engine = create_engine(postgres_conn)\n",
    "\n",
    "# Engine untuk MySQL\n",
    "mysql_engine = create_engine(mysql_conn)\n",
    "\n",
    "\n",
    "# Ambil data dari MySQL\n",
    "mysql_df_iris = pd.read_sql(\"SELECT * FROM iris_full\", mysql_engine)\n",
    "\n",
    "# Ambil data dari PostgreSQL\n",
    "postgres_df_iris = pd.read_sql(\"SELECT * FROM iris_full\", postgres_engine)\n"
   ]
  },
  {
   "cell_type": "markdown",
   "id": "41ea8cc3",
   "metadata": {},
   "source": [
    "### Mengabungkan 2 database"
   ]
  },
  {
   "cell_type": "code",
   "execution_count": null,
   "id": "22639911",
   "metadata": {},
   "outputs": [
    {
     "name": "stdout",
     "output_type": "stream",
     "text": [
      "      id  petal length  petal width  sepal length  sepal width\n",
      "0      1           1.4          0.2           5.1          3.5\n",
      "1      2           1.4          0.2           4.9          3.0\n",
      "2      3           1.3          0.2           4.7          3.2\n",
      "3      4           1.5          0.2           4.6          3.1\n",
      "4      5           1.4          0.2           5.0          3.6\n",
      "..   ...           ...          ...           ...          ...\n",
      "145  146           5.2          2.3           6.7          3.0\n",
      "146  147           5.0          1.9           6.3          2.5\n",
      "147  148           5.2          2.0           6.5          3.0\n",
      "148  149           5.4          2.3           6.2          3.4\n",
      "149  150           5.1          1.8           5.9          3.0\n",
      "\n",
      "[150 rows x 5 columns]\n"
     ]
    }
   ],
   "source": [
    "\n",
    "merge_df = pd.merge(mysql_df_iris, postgres_df_iris, left_on=\"id\", right_on='id', how='outer')\n",
    "print(merge_df)"
   ]
  },
  {
   "cell_type": "markdown",
   "id": "fe508b64",
   "metadata": {},
   "source": [
    "### Salinan data\n",
    "Buat salinan data dari hasil penggabungan "
   ]
  },
  {
   "cell_type": "code",
   "execution_count": 20,
   "id": "78337c8c",
   "metadata": {},
   "outputs": [],
   "source": [
    "data_train = merge_df.copy()"
   ]
  },
  {
   "cell_type": "markdown",
   "id": "f07dec4e",
   "metadata": {},
   "source": [
    "### Model ABOD"
   ]
  },
  {
   "cell_type": "code",
   "execution_count": 14,
   "id": "88ecc84b",
   "metadata": {},
   "outputs": [
    {
     "data": {
      "text/html": [
       "<style type=\"text/css\">\n",
       "#T_dba11_row4_col1 {\n",
       "  background-color: lightgreen;\n",
       "}\n",
       "</style>\n",
       "<table id=\"T_dba11\">\n",
       "  <thead>\n",
       "    <tr>\n",
       "      <th class=\"blank level0\" >&nbsp;</th>\n",
       "      <th id=\"T_dba11_level0_col0\" class=\"col_heading level0 col0\" >Description</th>\n",
       "      <th id=\"T_dba11_level0_col1\" class=\"col_heading level0 col1\" >Value</th>\n",
       "    </tr>\n",
       "  </thead>\n",
       "  <tbody>\n",
       "    <tr>\n",
       "      <th id=\"T_dba11_level0_row0\" class=\"row_heading level0 row0\" >0</th>\n",
       "      <td id=\"T_dba11_row0_col0\" class=\"data row0 col0\" >Session id</td>\n",
       "      <td id=\"T_dba11_row0_col1\" class=\"data row0 col1\" >890</td>\n",
       "    </tr>\n",
       "    <tr>\n",
       "      <th id=\"T_dba11_level0_row1\" class=\"row_heading level0 row1\" >1</th>\n",
       "      <td id=\"T_dba11_row1_col0\" class=\"data row1 col0\" >Original data shape</td>\n",
       "      <td id=\"T_dba11_row1_col1\" class=\"data row1 col1\" >(150, 5)</td>\n",
       "    </tr>\n",
       "    <tr>\n",
       "      <th id=\"T_dba11_level0_row2\" class=\"row_heading level0 row2\" >2</th>\n",
       "      <td id=\"T_dba11_row2_col0\" class=\"data row2 col0\" >Transformed data shape</td>\n",
       "      <td id=\"T_dba11_row2_col1\" class=\"data row2 col1\" >(150, 5)</td>\n",
       "    </tr>\n",
       "    <tr>\n",
       "      <th id=\"T_dba11_level0_row3\" class=\"row_heading level0 row3\" >3</th>\n",
       "      <td id=\"T_dba11_row3_col0\" class=\"data row3 col0\" >Numeric features</td>\n",
       "      <td id=\"T_dba11_row3_col1\" class=\"data row3 col1\" >5</td>\n",
       "    </tr>\n",
       "    <tr>\n",
       "      <th id=\"T_dba11_level0_row4\" class=\"row_heading level0 row4\" >4</th>\n",
       "      <td id=\"T_dba11_row4_col0\" class=\"data row4 col0\" >Preprocess</td>\n",
       "      <td id=\"T_dba11_row4_col1\" class=\"data row4 col1\" >True</td>\n",
       "    </tr>\n",
       "    <tr>\n",
       "      <th id=\"T_dba11_level0_row5\" class=\"row_heading level0 row5\" >5</th>\n",
       "      <td id=\"T_dba11_row5_col0\" class=\"data row5 col0\" >Imputation type</td>\n",
       "      <td id=\"T_dba11_row5_col1\" class=\"data row5 col1\" >simple</td>\n",
       "    </tr>\n",
       "    <tr>\n",
       "      <th id=\"T_dba11_level0_row6\" class=\"row_heading level0 row6\" >6</th>\n",
       "      <td id=\"T_dba11_row6_col0\" class=\"data row6 col0\" >Numeric imputation</td>\n",
       "      <td id=\"T_dba11_row6_col1\" class=\"data row6 col1\" >mean</td>\n",
       "    </tr>\n",
       "    <tr>\n",
       "      <th id=\"T_dba11_level0_row7\" class=\"row_heading level0 row7\" >7</th>\n",
       "      <td id=\"T_dba11_row7_col0\" class=\"data row7 col0\" >Categorical imputation</td>\n",
       "      <td id=\"T_dba11_row7_col1\" class=\"data row7 col1\" >mode</td>\n",
       "    </tr>\n",
       "    <tr>\n",
       "      <th id=\"T_dba11_level0_row8\" class=\"row_heading level0 row8\" >8</th>\n",
       "      <td id=\"T_dba11_row8_col0\" class=\"data row8 col0\" >CPU Jobs</td>\n",
       "      <td id=\"T_dba11_row8_col1\" class=\"data row8 col1\" >-1</td>\n",
       "    </tr>\n",
       "    <tr>\n",
       "      <th id=\"T_dba11_level0_row9\" class=\"row_heading level0 row9\" >9</th>\n",
       "      <td id=\"T_dba11_row9_col0\" class=\"data row9 col0\" >Use GPU</td>\n",
       "      <td id=\"T_dba11_row9_col1\" class=\"data row9 col1\" >False</td>\n",
       "    </tr>\n",
       "    <tr>\n",
       "      <th id=\"T_dba11_level0_row10\" class=\"row_heading level0 row10\" >10</th>\n",
       "      <td id=\"T_dba11_row10_col0\" class=\"data row10 col0\" >Log Experiment</td>\n",
       "      <td id=\"T_dba11_row10_col1\" class=\"data row10 col1\" >False</td>\n",
       "    </tr>\n",
       "    <tr>\n",
       "      <th id=\"T_dba11_level0_row11\" class=\"row_heading level0 row11\" >11</th>\n",
       "      <td id=\"T_dba11_row11_col0\" class=\"data row11 col0\" >Experiment Name</td>\n",
       "      <td id=\"T_dba11_row11_col1\" class=\"data row11 col1\" >anomaly-default-name</td>\n",
       "    </tr>\n",
       "    <tr>\n",
       "      <th id=\"T_dba11_level0_row12\" class=\"row_heading level0 row12\" >12</th>\n",
       "      <td id=\"T_dba11_row12_col0\" class=\"data row12 col0\" >USI</td>\n",
       "      <td id=\"T_dba11_row12_col1\" class=\"data row12 col1\" >c7b1</td>\n",
       "    </tr>\n",
       "  </tbody>\n",
       "</table>\n"
      ],
      "text/plain": [
       "<pandas.io.formats.style.Styler at 0x202af3de810>"
      ]
     },
     "metadata": {},
     "output_type": "display_data"
    },
    {
     "data": {
      "text/html": [],
      "text/plain": [
       "<IPython.core.display.HTML object>"
      ]
     },
     "metadata": {},
     "output_type": "display_data"
    },
    {
     "data": {
      "text/html": [],
      "text/plain": [
       "<IPython.core.display.HTML object>"
      ]
     },
     "metadata": {},
     "output_type": "display_data"
    },
    {
     "data": {
      "text/html": [],
      "text/plain": [
       "<IPython.core.display.HTML object>"
      ]
     },
     "metadata": {},
     "output_type": "display_data"
    },
    {
     "data": {
      "text/html": [
       "<div>\n",
       "<style scoped>\n",
       "    .dataframe tbody tr th:only-of-type {\n",
       "        vertical-align: middle;\n",
       "    }\n",
       "\n",
       "    .dataframe tbody tr th {\n",
       "        vertical-align: top;\n",
       "    }\n",
       "\n",
       "    .dataframe thead th {\n",
       "        text-align: right;\n",
       "    }\n",
       "</style>\n",
       "<table border=\"1\" class=\"dataframe\">\n",
       "  <thead>\n",
       "    <tr style=\"text-align: right;\">\n",
       "      <th></th>\n",
       "      <th>id</th>\n",
       "      <th>petal length</th>\n",
       "      <th>petal width</th>\n",
       "      <th>sepal length</th>\n",
       "      <th>sepal width</th>\n",
       "      <th>Anomaly</th>\n",
       "      <th>Anomaly_Score</th>\n",
       "    </tr>\n",
       "  </thead>\n",
       "  <tbody>\n",
       "    <tr>\n",
       "      <th>98</th>\n",
       "      <td>99</td>\n",
       "      <td>3.0</td>\n",
       "      <td>1.1</td>\n",
       "      <td>5.1</td>\n",
       "      <td>2.5</td>\n",
       "      <td>1</td>\n",
       "      <td>-0.006736</td>\n",
       "    </tr>\n",
       "    <tr>\n",
       "      <th>106</th>\n",
       "      <td>107</td>\n",
       "      <td>4.5</td>\n",
       "      <td>1.7</td>\n",
       "      <td>4.9</td>\n",
       "      <td>2.5</td>\n",
       "      <td>1</td>\n",
       "      <td>-0.001276</td>\n",
       "    </tr>\n",
       "    <tr>\n",
       "      <th>117</th>\n",
       "      <td>118</td>\n",
       "      <td>6.7</td>\n",
       "      <td>2.2</td>\n",
       "      <td>7.7</td>\n",
       "      <td>3.8</td>\n",
       "      <td>1</td>\n",
       "      <td>-0.005361</td>\n",
       "    </tr>\n",
       "    <tr>\n",
       "      <th>118</th>\n",
       "      <td>119</td>\n",
       "      <td>6.9</td>\n",
       "      <td>2.3</td>\n",
       "      <td>7.7</td>\n",
       "      <td>2.6</td>\n",
       "      <td>1</td>\n",
       "      <td>-0.005204</td>\n",
       "    </tr>\n",
       "    <tr>\n",
       "      <th>119</th>\n",
       "      <td>120</td>\n",
       "      <td>5.0</td>\n",
       "      <td>1.5</td>\n",
       "      <td>6.0</td>\n",
       "      <td>2.2</td>\n",
       "      <td>1</td>\n",
       "      <td>-0.006080</td>\n",
       "    </tr>\n",
       "    <tr>\n",
       "      <th>122</th>\n",
       "      <td>123</td>\n",
       "      <td>6.7</td>\n",
       "      <td>2.0</td>\n",
       "      <td>7.7</td>\n",
       "      <td>2.8</td>\n",
       "      <td>1</td>\n",
       "      <td>-0.004978</td>\n",
       "    </tr>\n",
       "    <tr>\n",
       "      <th>135</th>\n",
       "      <td>136</td>\n",
       "      <td>6.1</td>\n",
       "      <td>2.3</td>\n",
       "      <td>7.7</td>\n",
       "      <td>3.0</td>\n",
       "      <td>1</td>\n",
       "      <td>-0.006185</td>\n",
       "    </tr>\n",
       "    <tr>\n",
       "      <th>149</th>\n",
       "      <td>150</td>\n",
       "      <td>5.1</td>\n",
       "      <td>1.8</td>\n",
       "      <td>5.9</td>\n",
       "      <td>3.0</td>\n",
       "      <td>1</td>\n",
       "      <td>-0.006176</td>\n",
       "    </tr>\n",
       "  </tbody>\n",
       "</table>\n",
       "</div>"
      ],
      "text/plain": [
       "      id  petal length  petal width  sepal length  sepal width  Anomaly  \\\n",
       "98    99           3.0          1.1           5.1          2.5        1   \n",
       "106  107           4.5          1.7           4.9          2.5        1   \n",
       "117  118           6.7          2.2           7.7          3.8        1   \n",
       "118  119           6.9          2.3           7.7          2.6        1   \n",
       "119  120           5.0          1.5           6.0          2.2        1   \n",
       "122  123           6.7          2.0           7.7          2.8        1   \n",
       "135  136           6.1          2.3           7.7          3.0        1   \n",
       "149  150           5.1          1.8           5.9          3.0        1   \n",
       "\n",
       "     Anomaly_Score  \n",
       "98       -0.006736  \n",
       "106      -0.001276  \n",
       "117      -0.005361  \n",
       "118      -0.005204  \n",
       "119      -0.006080  \n",
       "122      -0.004978  \n",
       "135      -0.006185  \n",
       "149      -0.006176  "
      ]
     },
     "execution_count": 14,
     "metadata": {},
     "output_type": "execute_result"
    }
   ],
   "source": [
    "from pycaret.anomaly import *\n",
    "\n",
    "# Setup PyCaret untuk anomaly detection\n",
    "exp_ano = setup(data=data_train)\n",
    "\n",
    "# Buat model ABOD\n",
    "abod_model = create_model('abod')\n",
    "\n",
    "# Assign label outlier ke setiap baris\n",
    "dataset_outliers = assign_model(abod_model)\n",
    "\n",
    "# Hapus baris yang dianggap outlier\n",
    "dataset_clean = dataset_outliers[dataset_outliers['Anomaly'] == 1]\n",
    "\n",
    "dataset_clean"
   ]
  },
  {
   "cell_type": "markdown",
   "id": "0ed4dcfb",
   "metadata": {},
   "source": [
    "### Menghapus data dengan skor outlier tertinggi"
   ]
  },
  {
   "cell_type": "code",
   "execution_count": null,
   "id": "5259b697",
   "metadata": {},
   "outputs": [
    {
     "name": "stdout",
     "output_type": "stream",
     "text": [
      "Data setelah 2 outlier tertinggi dihapus:\n",
      "   id  petal length  petal width  sepal length  sepal width  Anomaly  \\\n",
      "0   1           1.4          0.2           5.1          3.5        0   \n",
      "1   2           1.4          0.2           4.9          3.0        0   \n",
      "2   3           1.3          0.2           4.7          3.2        0   \n",
      "3   4           1.5          0.2           4.6          3.1        0   \n",
      "4   5           1.4          0.2           5.0          3.6        0   \n",
      "\n",
      "   Anomaly_Score  \n",
      "0      -0.010918  \n",
      "1      -0.105879  \n",
      "2      -0.160850  \n",
      "3      -0.108965  \n",
      "4      -0.103372  \n"
     ]
    }
   ],
   "source": [
    "# Urutkan dataset_outliers berdasarkan skor outlier (descending)\n",
    "outliers_sorted = dataset_outliers.sort_values(by=\"Anomaly_Score\", ascending=False)\n",
    "\n",
    "# Ambil index 2 skor outlier tertinggi\n",
    "top2_outliers_index = outliers_sorted.head(2).index\n",
    "\n",
    "# Hapus 2 data tersebut dari dataset_outliers\n",
    "dataset_clean_top2 = dataset_outliers.drop(index=top2_outliers_index)\n",
    "\n",
    "print(\"Data setelah 2 outlier tertinggi dihapus:\")\n",
    "print(dataset_clean_top2.head())\n"
   ]
  }
 ],
 "metadata": {
  "kernelspec": {
   "display_name": "Python 3",
   "language": "python",
   "name": "python3"
  },
  "language_info": {
   "codemirror_mode": {
    "name": "ipython",
    "version": 3
   },
   "file_extension": ".py",
   "mimetype": "text/x-python",
   "name": "python",
   "nbconvert_exporter": "python",
   "pygments_lexer": "ipython3",
   "version": "3.11.9"
  }
 },
 "nbformat": 4,
 "nbformat_minor": 5
}
